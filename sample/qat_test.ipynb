{
 "cells": [
  {
   "cell_type": "code",
   "execution_count": 1,
   "metadata": {},
   "outputs": [
    {
     "name": "stdout",
     "output_type": "stream",
     "text": [
      "torch = 1.12.1\n",
      "torchvision = 0.13.1\n"
     ]
    }
   ],
   "source": [
    "import os\n",
    "import random\n",
    "import sys\n",
    "if os.path.dirname(os.getcwd()) not in sys.path:\n",
    "    sys.path.append(os.path.dirname(os.getcwd()))\n",
    "import torch\n",
    "import torch.nn as nn\n",
    "import torchvision\n",
    "\n",
    "import time\n",
    "import copy\n",
    "import numpy as np\n",
    "from torchvision import transforms\n",
    "from tqdm import tqdm\n",
    "from torchsummary import summary\n",
    "\n",
    "def set_random_seeds(random_seed=0):\n",
    "\n",
    "    torch.manual_seed(random_seed)\n",
    "    torch.backends.cudnn.deterministic = True\n",
    "    torch.backends.cudnn.benchmark = False\n",
    "    np.random.seed(random_seed)\n",
    "    random.seed(random_seed)\n",
    "\n",
    "def memory_check():\n",
    "    print(f\"  Allocated: {round(torch.cuda.memory_allocated()/1024**3,2)} GB\")\n",
    "    print(f\"  Cached:    {round(torch.cuda.memory_reserved()/1024**3,2)} GB\\n\")\n",
    "\n",
    "print(f\"torch = {torch.__version__}\")\n",
    "print(f\"torchvision = {torchvision.__version__}\")"
   ]
  },
  {
   "cell_type": "code",
   "execution_count": 2,
   "metadata": {},
   "outputs": [
    {
     "name": "stdout",
     "output_type": "stream",
     "text": [
      "----------------------------------------------------------------\n",
      "        Layer (type)               Output Shape         Param #\n",
      "================================================================\n",
      "         QuantStub-1            [-1, 3, 32, 32]               0\n",
      "            Conv2d-2           [-1, 32, 16, 16]             864\n",
      "       BatchNorm2d-3           [-1, 32, 16, 16]              64\n",
      "              ReLU-4           [-1, 32, 16, 16]               0\n",
      "            Conv2d-5           [-1, 32, 16, 16]             288\n",
      "       BatchNorm2d-6           [-1, 32, 16, 16]              64\n",
      "              ReLU-7           [-1, 32, 16, 16]               0\n",
      "            Conv2d-8           [-1, 16, 16, 16]             512\n",
      "       BatchNorm2d-9           [-1, 16, 16, 16]              32\n",
      "QuantizableInvertedResidual-10           [-1, 16, 16, 16]               0\n",
      "           Conv2d-11           [-1, 64, 16, 16]           1,024\n",
      "      BatchNorm2d-12           [-1, 64, 16, 16]             128\n",
      "             ReLU-13           [-1, 64, 16, 16]               0\n",
      "           Conv2d-14             [-1, 64, 8, 8]             576\n",
      "      BatchNorm2d-15             [-1, 64, 8, 8]             128\n",
      "             ReLU-16             [-1, 64, 8, 8]               0\n",
      "           Conv2d-17             [-1, 32, 8, 8]           2,048\n",
      "      BatchNorm2d-18             [-1, 32, 8, 8]              64\n",
      "QuantizableInvertedResidual-19             [-1, 32, 8, 8]               0\n",
      "           Conv2d-20            [-1, 128, 8, 8]           4,096\n",
      "      BatchNorm2d-21            [-1, 128, 8, 8]             256\n",
      "             ReLU-22            [-1, 128, 8, 8]               0\n",
      "           Conv2d-23            [-1, 128, 8, 8]           1,152\n",
      "      BatchNorm2d-24            [-1, 128, 8, 8]             256\n",
      "             ReLU-25            [-1, 128, 8, 8]               0\n",
      "           Conv2d-26             [-1, 32, 8, 8]           4,096\n",
      "      BatchNorm2d-27             [-1, 32, 8, 8]              64\n",
      "         Identity-28             [-1, 32, 8, 8]               0\n",
      "QuantizableInvertedResidual-29             [-1, 32, 8, 8]               0\n",
      "           Conv2d-30            [-1, 128, 8, 8]           4,096\n",
      "      BatchNorm2d-31            [-1, 128, 8, 8]             256\n",
      "             ReLU-32            [-1, 128, 8, 8]               0\n",
      "           Conv2d-33            [-1, 128, 8, 8]           1,152\n",
      "      BatchNorm2d-34            [-1, 128, 8, 8]             256\n",
      "             ReLU-35            [-1, 128, 8, 8]               0\n",
      "           Conv2d-36             [-1, 32, 8, 8]           4,096\n",
      "      BatchNorm2d-37             [-1, 32, 8, 8]              64\n",
      "         Identity-38             [-1, 32, 8, 8]               0\n",
      "QuantizableInvertedResidual-39             [-1, 32, 8, 8]               0\n",
      "           Conv2d-40            [-1, 128, 8, 8]           4,096\n",
      "      BatchNorm2d-41            [-1, 128, 8, 8]             256\n",
      "             ReLU-42            [-1, 128, 8, 8]               0\n",
      "           Conv2d-43            [-1, 128, 4, 4]           1,152\n",
      "      BatchNorm2d-44            [-1, 128, 4, 4]             256\n",
      "             ReLU-45            [-1, 128, 4, 4]               0\n",
      "           Conv2d-46             [-1, 64, 4, 4]           8,192\n",
      "      BatchNorm2d-47             [-1, 64, 4, 4]             128\n",
      "QuantizableInvertedResidual-48             [-1, 64, 4, 4]               0\n",
      "           Conv2d-49            [-1, 256, 4, 4]          16,384\n",
      "      BatchNorm2d-50            [-1, 256, 4, 4]             512\n",
      "             ReLU-51            [-1, 256, 4, 4]               0\n",
      "           Conv2d-52            [-1, 256, 4, 4]           2,304\n",
      "      BatchNorm2d-53            [-1, 256, 4, 4]             512\n",
      "             ReLU-54            [-1, 256, 4, 4]               0\n",
      "           Conv2d-55             [-1, 64, 4, 4]          16,384\n",
      "      BatchNorm2d-56             [-1, 64, 4, 4]             128\n",
      "         Identity-57             [-1, 64, 4, 4]               0\n",
      "QuantizableInvertedResidual-58             [-1, 64, 4, 4]               0\n",
      "           Conv2d-59            [-1, 256, 4, 4]          16,384\n",
      "      BatchNorm2d-60            [-1, 256, 4, 4]             512\n",
      "             ReLU-61            [-1, 256, 4, 4]               0\n",
      "           Conv2d-62            [-1, 256, 4, 4]           2,304\n",
      "      BatchNorm2d-63            [-1, 256, 4, 4]             512\n",
      "             ReLU-64            [-1, 256, 4, 4]               0\n",
      "           Conv2d-65             [-1, 64, 4, 4]          16,384\n",
      "      BatchNorm2d-66             [-1, 64, 4, 4]             128\n",
      "         Identity-67             [-1, 64, 4, 4]               0\n",
      "QuantizableInvertedResidual-68             [-1, 64, 4, 4]               0\n",
      "           Conv2d-69            [-1, 256, 4, 4]          16,384\n",
      "      BatchNorm2d-70            [-1, 256, 4, 4]             512\n",
      "             ReLU-71            [-1, 256, 4, 4]               0\n",
      "           Conv2d-72            [-1, 256, 4, 4]           2,304\n",
      "      BatchNorm2d-73            [-1, 256, 4, 4]             512\n",
      "             ReLU-74            [-1, 256, 4, 4]               0\n",
      "           Conv2d-75             [-1, 64, 4, 4]          16,384\n",
      "      BatchNorm2d-76             [-1, 64, 4, 4]             128\n",
      "         Identity-77             [-1, 64, 4, 4]               0\n",
      "QuantizableInvertedResidual-78             [-1, 64, 4, 4]               0\n",
      "           Conv2d-79            [-1, 256, 4, 4]          16,384\n",
      "      BatchNorm2d-80            [-1, 256, 4, 4]             512\n",
      "             ReLU-81            [-1, 256, 4, 4]               0\n",
      "           Conv2d-82            [-1, 256, 2, 2]           2,304\n",
      "      BatchNorm2d-83            [-1, 256, 2, 2]             512\n",
      "             ReLU-84            [-1, 256, 2, 2]               0\n",
      "           Conv2d-85            [-1, 128, 2, 2]          32,768\n",
      "      BatchNorm2d-86            [-1, 128, 2, 2]             256\n",
      "QuantizableInvertedResidual-87            [-1, 128, 2, 2]               0\n",
      "           Conv2d-88            [-1, 512, 2, 2]          65,536\n",
      "      BatchNorm2d-89            [-1, 512, 2, 2]           1,024\n",
      "             ReLU-90            [-1, 512, 2, 2]               0\n",
      "           Conv2d-91            [-1, 512, 2, 2]           4,608\n",
      "      BatchNorm2d-92            [-1, 512, 2, 2]           1,024\n",
      "             ReLU-93            [-1, 512, 2, 2]               0\n",
      "           Conv2d-94            [-1, 128, 2, 2]          65,536\n",
      "      BatchNorm2d-95            [-1, 128, 2, 2]             256\n",
      "         Identity-96            [-1, 128, 2, 2]               0\n",
      "QuantizableInvertedResidual-97            [-1, 128, 2, 2]               0\n",
      "           Conv2d-98            [-1, 512, 2, 2]          65,536\n",
      "      BatchNorm2d-99            [-1, 512, 2, 2]           1,024\n",
      "            ReLU-100            [-1, 512, 2, 2]               0\n",
      "          Conv2d-101            [-1, 512, 2, 2]           4,608\n",
      "     BatchNorm2d-102            [-1, 512, 2, 2]           1,024\n",
      "            ReLU-103            [-1, 512, 2, 2]               0\n",
      "          Conv2d-104            [-1, 128, 2, 2]          65,536\n",
      "     BatchNorm2d-105            [-1, 128, 2, 2]             256\n",
      "        Identity-106            [-1, 128, 2, 2]               0\n",
      "QuantizableInvertedResidual-107            [-1, 128, 2, 2]               0\n",
      "          Conv2d-108           [-1, 1280, 2, 2]         163,840\n",
      "     BatchNorm2d-109           [-1, 1280, 2, 2]           2,560\n",
      "            ReLU-110           [-1, 1280, 2, 2]               0\n",
      "         Dropout-111                 [-1, 1280]               0\n",
      "          Linear-112                   [-1, 10]          12,810\n",
      "     DeQuantStub-113                   [-1, 10]               0\n",
      "================================================================\n",
      "Total params: 656,298\n",
      "Trainable params: 656,298\n",
      "Non-trainable params: 0\n",
      "----------------------------------------------------------------\n",
      "Input size (MB): 0.01\n",
      "Forward/backward pass size (MB): 3.27\n",
      "Params size (MB): 2.50\n",
      "Estimated Total Size (MB): 5.79\n",
      "----------------------------------------------------------------\n"
     ]
    }
   ],
   "source": [
    "from models import quat_mobilenet_v2\n",
    "tiny_model = quat_mobilenet_v2(cifar10=True)\n",
    "tiny_model.load_state_dict(torch.load(\"./models/tiny_mobilenetv2_cifar.pt\"))\n",
    "summary(tiny_model,(3,32,32),device='cpu')"
   ]
  },
  {
   "cell_type": "code",
   "execution_count": 3,
   "metadata": {},
   "outputs": [
    {
     "name": "stdout",
     "output_type": "stream",
     "text": [
      "torch.Size([670508])\n",
      "Max 32846.0\n",
      "Min -0.9091643691062927\n",
      "6705\n",
      "tensor(0.5107) tensor(-0.1579)\n",
      "tensor([-0.9092, -0.8394, -0.8371, -0.7841, -0.7512, -0.7318, -0.7111, -0.7075,\n",
      "        -0.7015, -0.6907, -0.6876, -0.6641, -0.6532, -0.6381, -0.6341, -0.6314,\n",
      "        -0.6302, -0.6222, -0.6174, -0.6107])\n"
     ]
    }
   ],
   "source": [
    "tiny_model.to(\"cpu\")\n",
    "with torch.no_grad():\n",
    "    total_tensor = torch.tensor([])\n",
    "    state = tiny_model.state_dict()\n",
    "    for i in state.keys():\n",
    "        new_param = state[i].view(-1)\n",
    "        total_tensor = torch.cat((total_tensor,new_param),0)\n",
    "        \n",
    "    print(total_tensor.shape)\n",
    "    total_tensor,_ = total_tensor.sort()\n",
    "    print(f\"Max {torch.max(total_tensor)}\")\n",
    "    print(f\"Min {torch.min(total_tensor)}\")\n",
    "    number = int(len(total_tensor)*0.01)\n",
    "    print(number)\n",
    "    \n",
    "    M = total_tensor[-number]\n",
    "    m = total_tensor[number]\n",
    "    print(M,m)\n",
    "    print(total_tensor[:20])\n",
    "\n",
    "    "
   ]
  },
  {
   "cell_type": "code",
   "execution_count": 4,
   "metadata": {},
   "outputs": [
    {
     "name": "stdout",
     "output_type": "stream",
     "text": [
      "tensor(0.1270) tensor(0.1270)\n"
     ]
    }
   ],
   "source": [
    "with torch.no_grad():\n",
    "    new_M = 0\n",
    "    new_m = 0 \n",
    "    for name, param in tiny_model.named_parameters():\n",
    "        new_param = param.clamp(m,M)\n",
    "        new_param = torch.round(254*(new_param-m)/(M-m)-127)\n",
    "        new_param = new_param/1000\n",
    "        \n",
    "        new_M = max(new_M,torch.max(new_param))\n",
    "        new_m = max(new_m,torch.max(new_param))\n",
    "    print(new_M,new_m)\n"
   ]
  },
  {
   "cell_type": "code",
   "execution_count": 8,
   "metadata": {},
   "outputs": [
    {
     "name": "stdout",
     "output_type": "stream",
     "text": [
      "Files already downloaded and verified\n",
      "Files already downloaded and verified\n",
      "Train data set = 50000, Test = 10000\n"
     ]
    }
   ],
   "source": [
    "from utils import Train\n",
    "train_dataset, test_dataset = Train.Cifar10_Dataloader(quantize=True,only_dataset=True)\n"
   ]
  },
  {
   "cell_type": "code",
   "execution_count": 9,
   "metadata": {},
   "outputs": [
    {
     "name": "stdout",
     "output_type": "stream",
     "text": [
      "670508\n",
      "tensor(32846.) tensor(-0.9092)\n",
      "tensor([-0.9092, -0.8394, -0.8371, -0.7841, -0.7512, -0.7318, -0.7111, -0.7075,\n",
      "        -0.7015, -0.6907, -0.6876, -0.6641, -0.6532, -0.6381, -0.6341, -0.6314,\n",
      "        -0.6302, -0.6222, -0.6174, -0.6107])\n",
      "tensor([32846., 32846., 32846., 32846., 32846., 32846., 32846., 32846., 32846.,\n",
      "        32846., 32846., 32846., 32846., 32846., 32846., 32846., 32846., 32846.,\n",
      "        32846., 32846.])\n"
     ]
    }
   ],
   "source": [
    "fuse_model = copy.deepcopy(tiny_model)\n",
    "fuse_model.fuse_model()\n",
    "state = fuse_model.state_dict()\n",
    "total_tensor = torch.tensor([])\n",
    "for i in state.keys():\n",
    "    new_param = state[i].view(-1)\n",
    "    total_tensor = torch.cat((total_tensor,new_param),0)\n",
    "length = len(total_tensor)\n",
    "total_tensor,_ = total_tensor.sort()\n",
    "print(length)\n",
    "print(torch.max(total_tensor), torch.min(total_tensor))\n",
    "print(total_tensor[:20])\n",
    "print(total_tensor[-20:])"
   ]
  },
  {
   "cell_type": "code",
   "execution_count": 4,
   "metadata": {},
   "outputs": [
    {
     "name": "stdout",
     "output_type": "stream",
     "text": [
      "torch.Size([1, 3, 32, 32])\n",
      "<built-in method dim of Tensor object at 0x7f734a4deb30>\n",
      "Before quant torch.Size([1, 3, 32, 32])\n",
      "tensor([[[[0.7015, 0.0094, 0.6844,  ..., 0.9708, 0.9056, 0.4092],\n",
      "          [0.4952, 0.8349, 0.2106,  ..., 0.1093, 0.3152, 0.3218],\n",
      "          [0.9619, 0.2924, 0.7515,  ..., 0.0749, 0.6031, 0.9446],\n",
      "          ...,\n",
      "          [0.6778, 0.7219, 0.6975,  ..., 0.5404, 0.7204, 0.2027],\n",
      "          [0.4839, 0.5764, 0.8945,  ..., 0.7231, 0.9630, 0.8795],\n",
      "          [0.2107, 0.4932, 0.2533,  ..., 0.0445, 0.0238, 0.9571]],\n",
      "\n",
      "         [[0.3503, 0.7456, 0.3864,  ..., 0.5104, 0.3343, 0.2511],\n",
      "          [0.6302, 0.4099, 0.0470,  ..., 0.6817, 0.0322, 0.0287],\n",
      "          [0.2448, 0.3077, 0.5786,  ..., 0.6606, 0.3641, 0.2507],\n",
      "          ...,\n",
      "          [0.2450, 0.5552, 0.5145,  ..., 0.0156, 0.4594, 0.5732],\n",
      "          [0.6668, 0.1426, 0.4182,  ..., 0.2259, 0.1909, 0.5003],\n",
      "          [0.1236, 0.4521, 0.3786,  ..., 0.4592, 0.4758, 0.9741]],\n",
      "\n",
      "         [[0.6547, 0.3612, 0.9795,  ..., 0.2076, 0.9859, 0.3400],\n",
      "          [0.2913, 0.2355, 0.6658,  ..., 0.7618, 0.8023, 0.9267],\n",
      "          [0.3454, 0.9834, 0.1981,  ..., 0.0507, 0.3846, 0.4739],\n",
      "          ...,\n",
      "          [0.2189, 0.7687, 0.1292,  ..., 0.3286, 0.2500, 0.3276],\n",
      "          [0.9208, 0.3644, 0.2846,  ..., 0.4540, 0.1889, 0.7651],\n",
      "          [0.2058, 0.4979, 0.6666,  ..., 0.7686, 0.9347, 0.0436]]]])\n",
      "\n",
      "After quant\n",
      "tensor([[[[0.7015, 0.0094, 0.6844,  ..., 0.9708, 0.9056, 0.4092],\n",
      "          [0.4952, 0.8349, 0.2106,  ..., 0.1093, 0.3152, 0.3218],\n",
      "          [0.9619, 0.2924, 0.7515,  ..., 0.0749, 0.6031, 0.9446],\n",
      "          ...,\n",
      "          [0.6778, 0.7219, 0.6975,  ..., 0.5404, 0.7204, 0.2027],\n",
      "          [0.4839, 0.5764, 0.8945,  ..., 0.7231, 0.9630, 0.8795],\n",
      "          [0.2107, 0.4932, 0.2533,  ..., 0.0445, 0.0238, 0.9571]],\n",
      "\n",
      "         [[0.3503, 0.7456, 0.3864,  ..., 0.5104, 0.3343, 0.2511],\n",
      "          [0.6302, 0.4099, 0.0470,  ..., 0.6817, 0.0322, 0.0287],\n",
      "          [0.2448, 0.3077, 0.5786,  ..., 0.6606, 0.3641, 0.2507],\n",
      "          ...,\n",
      "          [0.2450, 0.5552, 0.5145,  ..., 0.0156, 0.4594, 0.5732],\n",
      "          [0.6668, 0.1426, 0.4182,  ..., 0.2259, 0.1909, 0.5003],\n",
      "          [0.1236, 0.4521, 0.3786,  ..., 0.4592, 0.4758, 0.9741]],\n",
      "\n",
      "         [[0.6547, 0.3612, 0.9795,  ..., 0.2076, 0.9859, 0.3400],\n",
      "          [0.2913, 0.2355, 0.6658,  ..., 0.7618, 0.8023, 0.9267],\n",
      "          [0.3454, 0.9834, 0.1981,  ..., 0.0507, 0.3846, 0.4739],\n",
      "          ...,\n",
      "          [0.2189, 0.7687, 0.1292,  ..., 0.3286, 0.2500, 0.3276],\n",
      "          [0.9208, 0.3644, 0.2846,  ..., 0.4540, 0.1889, 0.7651],\n",
      "          [0.2058, 0.4979, 0.6666,  ..., 0.7686, 0.9347, 0.0436]]]])\n",
      "\n",
      "Before dequant\n",
      "tensor([[-0.0149, -0.0047, -0.0055, -0.0079, -0.0012, -0.0014, -0.0030,  0.0033,\n",
      "          0.0065,  0.0024]], grad_fn=<AddmmBackward0>)\n",
      "\n",
      "After dequant\n",
      "tensor([[-0.0149, -0.0047, -0.0055, -0.0079, -0.0012, -0.0014, -0.0030,  0.0033,\n",
      "          0.0065,  0.0024]], grad_fn=<AddmmBackward0>)\n",
      "\n"
     ]
    }
   ],
   "source": [
    "from models import Quant_ReLU\n",
    "from models import quat_mobilenet_v2\n",
    "import torch\n",
    "test_model = quat_mobilenet_v2(cifar10=True, activation_layer = Quant_ReLU)\n",
    "x = torch.rand(1,3,32,32)\n",
    "print(x.shape)\n",
    "print(x.dim)\n",
    "test_model.eval()\n",
    "test_model.to('cpu')\n",
    "y = test_model(x,check=True)"
   ]
  },
  {
   "cell_type": "code",
   "execution_count": 6,
   "metadata": {},
   "outputs": [
    {
     "name": "stdout",
     "output_type": "stream",
     "text": [
      "Files already downloaded and verified\n",
      "Files already downloaded and verified\n",
      "Train data set = 50000, Test = 10000\n"
     ]
    }
   ],
   "source": [
    "from models import quat_mobilenet_v2,mobilenet_v2\n",
    "from models import Quant_ReLU\n",
    "from torchsummary import summary\n",
    "from utils import Data\n",
    "from utils import Train\n",
    "import torch\n",
    "import numpy as np\n",
    "from tqdm import tqdm\n",
    "from utils.Train import Evaluating\n",
    "from utils.Train import custom_quant_weights,custom_dequant_weights\n",
    "from models.mobilenetv2 import replace_Qrelu, replace_relu, MobileNet_V2_Weights\n",
    "from utils import set_random_seeds\n",
    "# device \n",
    "if torch.cuda.is_available():\n",
    "    gpu_device = torch.device(\"cuda\")\n",
    "cpu_device = torch.device(\"cpu\")\n",
    "\n",
    "# set random \n",
    "set_random_seeds(42)\n",
    "\n",
    "# model load\n",
    "model = quat_mobilenet_v2(weights=MobileNet_V2_Weights.IMAGENET1K_V1,activation_layer=torch.nn.ReLU)\n",
    "model.classifier.append(torch.nn.Dropout(0.2))\n",
    "model.classifier.append(torch.nn.Linear(1000, 10))\n",
    "model.load_state_dict(torch.load(\"./models/q_mobilenetv2_cifar10.pt\"))\n",
    "# model = mobilenet_v2(cifar10=True)\n",
    "# summary(model,(3,32,32),device=\"cpu\")\n",
    "# data load\n",
    "train_loader, test_loader = Data.Cifar10_Dataloader()\n"
   ]
  },
  {
   "cell_type": "code",
   "execution_count": 7,
   "metadata": {},
   "outputs": [
    {
     "name": "stderr",
     "output_type": "stream",
     "text": [
      "                                               \r"
     ]
    },
    {
     "name": "stdout",
     "output_type": "stream",
     "text": [
      "Before Training\n",
      "Validation 0.3677 Loss, 90.04 Acc\n"
     ]
    },
    {
     "name": "stderr",
     "output_type": "stream",
     "text": [
      "                                                 \r"
     ]
    },
    {
     "name": "stdout",
     "output_type": "stream",
     "text": [
      "--------1----------\n",
      "Train 0.2917 Loss, 92.90 Acc\n",
      "Validation 0.3707 Loss, 89.69 Acc\n"
     ]
    },
    {
     "name": "stderr",
     "output_type": "stream",
     "text": [
      "                                                 \r"
     ]
    },
    {
     "name": "stdout",
     "output_type": "stream",
     "text": [
      "--------2----------\n",
      "Train 0.2849 Loss, 92.93 Acc\n",
      "Validation 0.3590 Loss, 90.00 Acc\n"
     ]
    },
    {
     "name": "stderr",
     "output_type": "stream",
     "text": [
      "                                                 \r"
     ]
    },
    {
     "name": "stdout",
     "output_type": "stream",
     "text": [
      "--------3----------\n",
      "Train 0.2716 Loss, 93.20 Acc\n",
      "Validation 0.3545 Loss, 89.84 Acc\n"
     ]
    },
    {
     "name": "stderr",
     "output_type": "stream",
     "text": [
      "                                                 \r"
     ]
    },
    {
     "name": "stdout",
     "output_type": "stream",
     "text": [
      "--------4----------\n",
      "Train 0.2685 Loss, 93.07 Acc\n",
      "Validation 0.3501 Loss, 89.84 Acc\n"
     ]
    },
    {
     "name": "stderr",
     "output_type": "stream",
     "text": [
      "                                                 \r"
     ]
    },
    {
     "name": "stdout",
     "output_type": "stream",
     "text": [
      "--------5----------\n",
      "Train 0.2646 Loss, 92.97 Acc\n",
      "Validation 0.3442 Loss, 89.85 Acc\n"
     ]
    },
    {
     "name": "stderr",
     "output_type": "stream",
     "text": [
      "                                                 \r"
     ]
    },
    {
     "name": "stdout",
     "output_type": "stream",
     "text": [
      "--------6----------\n",
      "Train 0.2529 Loss, 93.22 Acc\n",
      "Validation 0.3408 Loss, 89.85 Acc\n"
     ]
    },
    {
     "name": "stderr",
     "output_type": "stream",
     "text": [
      "                                                 \r"
     ]
    },
    {
     "name": "stdout",
     "output_type": "stream",
     "text": [
      "--------7----------\n",
      "Train 0.2500 Loss, 93.03 Acc\n",
      "Validation 0.3382 Loss, 89.98 Acc\n"
     ]
    },
    {
     "name": "stderr",
     "output_type": "stream",
     "text": [
      "                                                 \r"
     ]
    },
    {
     "name": "stdout",
     "output_type": "stream",
     "text": [
      "--------8----------\n",
      "Train 0.2469 Loss, 92.92 Acc\n",
      "Validation 0.3360 Loss, 89.96 Acc\n"
     ]
    },
    {
     "name": "stderr",
     "output_type": "stream",
     "text": [
      "                                                 \r"
     ]
    },
    {
     "name": "stdout",
     "output_type": "stream",
     "text": [
      "--------9----------\n",
      "Train 0.2410 Loss, 93.08 Acc\n",
      "Validation 0.3369 Loss, 89.80 Acc\n"
     ]
    },
    {
     "name": "stderr",
     "output_type": "stream",
     "text": [
      "                                                 \r"
     ]
    },
    {
     "name": "stdout",
     "output_type": "stream",
     "text": [
      "--------10----------\n",
      "Train 0.2419 Loss, 92.94 Acc\n",
      "Validation 0.3293 Loss, 89.95 Acc\n"
     ]
    },
    {
     "name": "stderr",
     "output_type": "stream",
     "text": [
      "                                                 \r"
     ]
    },
    {
     "name": "stdout",
     "output_type": "stream",
     "text": [
      "--------11----------\n",
      "Train 0.2371 Loss, 93.05 Acc\n",
      "Validation 0.3296 Loss, 89.89 Acc\n"
     ]
    },
    {
     "name": "stderr",
     "output_type": "stream",
     "text": [
      "                                                 \r"
     ]
    },
    {
     "name": "stdout",
     "output_type": "stream",
     "text": [
      "--------12----------\n",
      "Train 0.2356 Loss, 92.96 Acc\n",
      "Validation 0.3303 Loss, 89.81 Acc\n"
     ]
    },
    {
     "name": "stderr",
     "output_type": "stream",
     "text": [
      "                                                 \r"
     ]
    },
    {
     "name": "stdout",
     "output_type": "stream",
     "text": [
      "--------13----------\n",
      "Train 0.2319 Loss, 93.14 Acc\n",
      "Validation 0.3300 Loss, 89.81 Acc\n"
     ]
    },
    {
     "name": "stderr",
     "output_type": "stream",
     "text": [
      "                                                 \r"
     ]
    },
    {
     "name": "stdout",
     "output_type": "stream",
     "text": [
      "--------14----------\n",
      "Train 0.2276 Loss, 93.17 Acc\n",
      "Validation 0.3258 Loss, 89.94 Acc\n"
     ]
    },
    {
     "name": "stderr",
     "output_type": "stream",
     "text": [
      "                                                 \r"
     ]
    },
    {
     "name": "stdout",
     "output_type": "stream",
     "text": [
      "--------15----------\n",
      "Train 0.2248 Loss, 93.20 Acc\n",
      "Validation 0.3269 Loss, 89.81 Acc\n"
     ]
    },
    {
     "name": "stderr",
     "output_type": "stream",
     "text": [
      "                                                 \r"
     ]
    },
    {
     "name": "stdout",
     "output_type": "stream",
     "text": [
      "--------16----------\n",
      "Train 0.2273 Loss, 92.99 Acc\n",
      "Validation 0.3233 Loss, 89.96 Acc\n"
     ]
    },
    {
     "name": "stderr",
     "output_type": "stream",
     "text": [
      "                                                 \r"
     ]
    },
    {
     "name": "stdout",
     "output_type": "stream",
     "text": [
      "--------17----------\n",
      "Train 0.2248 Loss, 93.09 Acc\n",
      "Validation 0.3248 Loss, 90.00 Acc\n"
     ]
    },
    {
     "name": "stderr",
     "output_type": "stream",
     "text": [
      "                                                 \r"
     ]
    },
    {
     "name": "stdout",
     "output_type": "stream",
     "text": [
      "--------18----------\n",
      "Train 0.2234 Loss, 93.03 Acc\n",
      "Validation 0.3238 Loss, 89.98 Acc\n"
     ]
    },
    {
     "name": "stderr",
     "output_type": "stream",
     "text": [
      "                                                 \r"
     ]
    },
    {
     "name": "stdout",
     "output_type": "stream",
     "text": [
      "--------19----------\n",
      "Train 0.2222 Loss, 93.02 Acc\n",
      "Validation 0.3251 Loss, 90.01 Acc\n"
     ]
    },
    {
     "name": "stderr",
     "output_type": "stream",
     "text": [
      "                                                 \r"
     ]
    },
    {
     "name": "stdout",
     "output_type": "stream",
     "text": [
      "--------20----------\n",
      "Train 0.2177 Loss, 93.22 Acc\n",
      "Validation 0.3226 Loss, 90.07 Acc\n"
     ]
    },
    {
     "name": "stderr",
     "output_type": "stream",
     "text": [
      "                                                 \r"
     ]
    },
    {
     "name": "stdout",
     "output_type": "stream",
     "text": [
      "--------21----------\n",
      "Train 0.2189 Loss, 93.06 Acc\n",
      "Validation 0.3270 Loss, 89.99 Acc\n"
     ]
    },
    {
     "name": "stderr",
     "output_type": "stream",
     "text": [
      "                                                 \r"
     ]
    },
    {
     "name": "stdout",
     "output_type": "stream",
     "text": [
      "--------22----------\n",
      "Train 0.2181 Loss, 93.09 Acc\n",
      "Validation 0.3251 Loss, 89.87 Acc\n"
     ]
    },
    {
     "name": "stderr",
     "output_type": "stream",
     "text": [
      "                                                 \r"
     ]
    },
    {
     "name": "stdout",
     "output_type": "stream",
     "text": [
      "--------23----------\n",
      "Train 0.2203 Loss, 92.99 Acc\n",
      "Validation 0.3225 Loss, 89.87 Acc\n"
     ]
    },
    {
     "name": "stderr",
     "output_type": "stream",
     "text": [
      "                                                 \r"
     ]
    },
    {
     "name": "stdout",
     "output_type": "stream",
     "text": [
      "--------24----------\n",
      "Train 0.2173 Loss, 93.23 Acc\n",
      "Validation 0.3240 Loss, 89.92 Acc\n"
     ]
    },
    {
     "name": "stderr",
     "output_type": "stream",
     "text": [
      "                                                 \r"
     ]
    },
    {
     "name": "stdout",
     "output_type": "stream",
     "text": [
      "--------25----------\n",
      "Train 0.2173 Loss, 93.07 Acc\n",
      "Validation 0.3212 Loss, 90.02 Acc\n"
     ]
    },
    {
     "name": "stderr",
     "output_type": "stream",
     "text": [
      "                                                 \r"
     ]
    },
    {
     "name": "stdout",
     "output_type": "stream",
     "text": [
      "--------26----------\n",
      "Train 0.2146 Loss, 93.21 Acc\n",
      "Validation 0.3274 Loss, 89.99 Acc\n"
     ]
    },
    {
     "name": "stderr",
     "output_type": "stream",
     "text": [
      "                                                 \r"
     ]
    },
    {
     "name": "stdout",
     "output_type": "stream",
     "text": [
      "--------27----------\n",
      "Train 0.2171 Loss, 93.09 Acc\n",
      "Validation 0.3203 Loss, 90.12 Acc\n"
     ]
    },
    {
     "name": "stderr",
     "output_type": "stream",
     "text": [
      "                                                 \r"
     ]
    },
    {
     "name": "stdout",
     "output_type": "stream",
     "text": [
      "--------28----------\n",
      "Train 0.2161 Loss, 93.19 Acc\n",
      "Validation 0.3275 Loss, 89.80 Acc\n"
     ]
    },
    {
     "name": "stderr",
     "output_type": "stream",
     "text": [
      "                                                 \r"
     ]
    },
    {
     "name": "stdout",
     "output_type": "stream",
     "text": [
      "--------29----------\n",
      "Train 0.2128 Loss, 93.13 Acc\n",
      "Validation 0.3228 Loss, 90.04 Acc\n"
     ]
    },
    {
     "name": "stderr",
     "output_type": "stream",
     "text": [
      "                                                 \r"
     ]
    },
    {
     "name": "stdout",
     "output_type": "stream",
     "text": [
      "--------30----------\n",
      "Train 0.2141 Loss, 93.16 Acc\n",
      "Validation 0.3216 Loss, 90.04 Acc\n"
     ]
    },
    {
     "name": "stderr",
     "output_type": "stream",
     "text": [
      "                                                 \r"
     ]
    },
    {
     "name": "stdout",
     "output_type": "stream",
     "text": [
      "--------31----------\n",
      "Train 0.2141 Loss, 93.14 Acc\n",
      "Validation 0.3231 Loss, 89.87 Acc\n"
     ]
    },
    {
     "name": "stderr",
     "output_type": "stream",
     "text": [
      "                                                 \r"
     ]
    },
    {
     "name": "stdout",
     "output_type": "stream",
     "text": [
      "--------32----------\n",
      "Train 0.2153 Loss, 93.14 Acc\n",
      "Validation 0.3241 Loss, 89.87 Acc\n"
     ]
    },
    {
     "name": "stderr",
     "output_type": "stream",
     "text": [
      "                                                 \r"
     ]
    },
    {
     "name": "stdout",
     "output_type": "stream",
     "text": [
      "--------33----------\n",
      "Train 0.2125 Loss, 93.17 Acc\n",
      "Validation 0.3239 Loss, 89.96 Acc\n"
     ]
    },
    {
     "name": "stderr",
     "output_type": "stream",
     "text": [
      "                                                 \r"
     ]
    },
    {
     "name": "stdout",
     "output_type": "stream",
     "text": [
      "--------34----------\n",
      "Train 0.2131 Loss, 93.20 Acc\n",
      "Validation 0.3302 Loss, 89.89 Acc\n"
     ]
    },
    {
     "name": "stderr",
     "output_type": "stream",
     "text": [
      "                                                 \r"
     ]
    },
    {
     "name": "stdout",
     "output_type": "stream",
     "text": [
      "--------35----------\n",
      "Train 0.2113 Loss, 93.17 Acc\n",
      "Validation 0.3230 Loss, 90.01 Acc\n"
     ]
    },
    {
     "name": "stderr",
     "output_type": "stream",
     "text": [
      "                                                 \r"
     ]
    },
    {
     "name": "stdout",
     "output_type": "stream",
     "text": [
      "--------36----------\n",
      "Train 0.2129 Loss, 93.14 Acc\n",
      "Validation 0.3228 Loss, 90.08 Acc\n"
     ]
    },
    {
     "name": "stderr",
     "output_type": "stream",
     "text": [
      "                                                 \r"
     ]
    },
    {
     "name": "stdout",
     "output_type": "stream",
     "text": [
      "--------37----------\n",
      "Train 0.2141 Loss, 93.05 Acc\n",
      "Validation 0.3229 Loss, 90.03 Acc\n"
     ]
    },
    {
     "name": "stderr",
     "output_type": "stream",
     "text": [
      "                                                 "
     ]
    },
    {
     "name": "stdout",
     "output_type": "stream",
     "text": [
      "--------38----------\n",
      "Train 0.2095 Loss, 93.28 Acc\n",
      "Validation 0.3279 Loss, 89.87 Acc\n"
     ]
    },
    {
     "name": "stderr",
     "output_type": "stream",
     "text": [
      "\r"
     ]
    }
   ],
   "source": [
    "\n",
    "# optimizer \n",
    "optimizer = torch.optim.SGD(model.parameters(), lr=1e-6, momentum=0.9, weight_decay=5e-4)\n",
    "\n",
    "# scheduler \n",
    "scheduler = torch.optim.lr_scheduler.MultiStepLR(optimizer, milestones=[20,60,90], gamma=0.5)\n",
    "\n",
    "# train model\n",
    "criterion = torch.nn.CrossEntropyLoss(label_smoothing=0.0)\n",
    "count = 0\n",
    "best_loss = np.Inf\n",
    "# Training\n",
    "model.to(gpu_device)\n",
    "val_loss, val_acc = Evaluating(model,test_loader,device=gpu_device,criterion=criterion)\n",
    "print(\"Before Training\")\n",
    "print(f\"Validation {val_loss:.4f} Loss, {val_acc:.2f} Acc\")\n",
    "\n",
    "# with torch.autograd.set_detect_anomaly(True):\n",
    "for epoch in range(100):\n",
    "\n",
    "    running_loss = 0\n",
    "    running_corrects = 0\n",
    "    model.train()\n",
    "    for inputs, labels in tqdm(iter(train_loader),leave=False):\n",
    "        inputs = inputs.to(gpu_device)\n",
    "        labels = labels.to(gpu_device)\n",
    "        # input \n",
    "        check = []\n",
    "        for i in range(inputs.size(0)):\n",
    "            temp = inputs.clone()\n",
    "            M = torch.max(temp[i])\n",
    "            m = torch.min(temp[i])\n",
    "            check.append([m,M])\n",
    "            inputs[i] = torch.round(254*(inputs[i]-m)/(M-m)-127)/1000\n",
    "        \n",
    "        for i in range(inputs.size(0)):\n",
    "            m = check[i][0]\n",
    "            M = check[i][1]\n",
    "            inputs[i] = (1000*inputs[i]+127)*(M-m)/254+m\n",
    "\n",
    "        optimizer.zero_grad()\n",
    "        # forward + backward + optimize\n",
    "        # model,backup = custom_quant_weights(model)\n",
    "        # model = custom_dequant_weights(model,backup)\n",
    "        outputs = model(inputs)\n",
    "\n",
    "        loss = criterion(outputs, labels)\n",
    "        loss.backward()\n",
    "        optimizer.step()\n",
    "        \n",
    "        _, preds = torch.max(outputs, 1)\n",
    "        # statistics\n",
    "        running_loss += loss.item() * labels.size(0)\n",
    "        running_corrects += (preds == labels).sum().item()\n",
    "        \n",
    "    # Set learning rate scheduler\n",
    "    if scheduler is not None:\n",
    "        scheduler.step()\n",
    "    train_loss = running_loss / len(train_loader.dataset)\n",
    "    train_accuracy = 100 * running_corrects / len(train_loader.dataset) \n",
    "\n",
    "    # Evaluation\n",
    "    val_loss, val_acc = Evaluating(model,test_loader,device=gpu_device,criterion=criterion)\n",
    "    print(f\"--------{epoch+1}----------\")\n",
    "    print(f\"Train {train_loss:.4f} Loss, {train_accuracy:.2f} Acc\")\n",
    "    print(f\"Validation {val_loss:.4f} Loss, {val_acc:.2f} Acc\")\n",
    "    if best_loss > val_loss:\n",
    "        best_loss = val_loss\n",
    "        count = 0\n",
    "        torch.save(model.state_dict(), f\"./models/test.pt\")\n",
    "    else:\n",
    "        count +=1\n",
    "        if count > 10:\n",
    "            break"
   ]
  },
  {
   "cell_type": "code",
   "execution_count": 8,
   "metadata": {},
   "outputs": [
    {
     "name": "stdout",
     "output_type": "stream",
     "text": [
      "Files already downloaded and verified\n",
      "Files already downloaded and verified\n",
      "Train data set = 50000, Test = 10000\n",
      "Q config = QConfig(activation=functools.partial(<class 'torch.ao.quantization.observer.HistogramObserver'>, reduce_range=True){}, weight=functools.partial(<class 'torch.ao.quantization.observer.PerChannelMinMaxObserver'>, dtype=torch.qint8, qscheme=torch.per_channel_symmetric){})\n",
      "calibrating...\n"
     ]
    },
    {
     "name": "stderr",
     "output_type": "stream",
     "text": [
      "                                                 "
     ]
    },
    {
     "name": "stdout",
     "output_type": "stream",
     "text": [
      "post int8_model acc :88.03 %\n"
     ]
    },
    {
     "name": "stderr",
     "output_type": "stream",
     "text": [
      "\r"
     ]
    }
   ],
   "source": [
    "from models import quantize_model,quat_mobilenet_v2,MobileNet_V2_Weights\n",
    "import copy\n",
    "import torch\n",
    "train_loader, test_loader = Data.Cifar10_Dataloader()\n",
    "model = quat_mobilenet_v2(weights=MobileNet_V2_Weights.IMAGENET1K_V1,activation_layer=torch.nn.ReLU)\n",
    "model.classifier.append(torch.nn.Dropout(0.2))\n",
    "model.classifier.append(torch.nn.Linear(1000, 10))\n",
    "model.to('cpu')\n",
    "# model.load_state_dict(torch.load(\"./models/input_q_mobilenetv2_cifar10.pt\"))\n",
    "model.load_state_dict(torch.load(\"./models/test.pt\"))\n",
    "quat_model = copy.deepcopy(model)\n",
    "qconfig = torch.quantization.get_default_qconfig(\"fbgemm\")\n",
    "quantize_model(quat_model, data= train_loader,qconfig=qconfig)\n",
    "_,int8_acc = Evaluating(quat_model,test_loader,\"cpu\")\n",
    "print(f\"post int8_model acc :{int8_acc:.2f} %\")\n"
   ]
  },
  {
   "cell_type": "code",
   "execution_count": 5,
   "metadata": {},
   "outputs": [
    {
     "name": "stdout",
     "output_type": "stream",
     "text": [
      "Q config = QConfig(activation=functools.partial(<class 'torch.ao.quantization.observer.MinMaxObserver'>, quant_min=0, quant_max=127){}, weight=functools.partial(<class 'torch.ao.quantization.observer.PerChannelMinMaxObserver'>, dtype=torch.qint8, qscheme=torch.per_channel_symmetric){})\n",
      "calibrating...\n"
     ]
    },
    {
     "name": "stderr",
     "output_type": "stream",
     "text": [
      "/home/seunmul/.conda/envs/torch/lib/python3.9/site-packages/torch/ao/quantization/utils.py:280: UserWarning: must run observer before calling calculate_qparams. Returning default values.\n",
      "  warnings.warn(\n",
      "                                               "
     ]
    },
    {
     "name": "stdout",
     "output_type": "stream",
     "text": [
      "post int8_model acc :61.87 %\n"
     ]
    },
    {
     "name": "stderr",
     "output_type": "stream",
     "text": [
      "\r"
     ]
    }
   ],
   "source": [
    "\n",
    "model.load_state_dict(torch.load(\"./models/q_mobilenetv2_cifar10.pt\"))\n",
    "quat_model = copy.deepcopy(model)\n",
    "quantize_model(quat_model, data= train_loader)\n",
    "_,int8_acc = Evaluating(quat_model,test_loader,\"cpu\")\n",
    "print(f\"post int8_model acc :{int8_acc:.2f} %\")"
   ]
  },
  {
   "cell_type": "code",
   "execution_count": 9,
   "metadata": {},
   "outputs": [
    {
     "name": "stdout",
     "output_type": "stream",
     "text": [
      "Files already downloaded and verified\n",
      "Files already downloaded and verified\n",
      "Train data set = 50000, Test = 10000\n"
     ]
    }
   ],
   "source": [
    "from models import quat_mobilenet_v2,mobilenet_v2\n",
    "from models import Quant_ReLU\n",
    "from torchsummary import summary\n",
    "from utils import Data\n",
    "from utils import Train\n",
    "import torch\n",
    "import numpy as np\n",
    "from tqdm import tqdm\n",
    "from utils.Train import Evaluating\n",
    "from utils.Train import custom_quant_weights,custom_dequant_weights\n",
    "from models.mobilenetv2 import replace_Qrelu, replace_relu, MobileNet_V2_Weights\n",
    "from utils import set_random_seeds\n",
    "# device \n",
    "if torch.cuda.is_available():\n",
    "    gpu_device = torch.device(\"cuda\")\n",
    "cpu_device = torch.device(\"cpu\")\n",
    "\n",
    "# set random \n",
    "set_random_seeds(42)\n",
    "\n",
    "# model load\n",
    "model = quat_mobilenet_v2(weights=MobileNet_V2_Weights.IMAGENET1K_V1,activation_layer=torch.nn.ReLU)\n",
    "model.classifier.append(torch.nn.Dropout(0.2))\n",
    "model.classifier.append(torch.nn.Linear(1000, 10))\n",
    "model.load_state_dict(torch.load(\"./models/q_mobilenetv2_cifar10.pt\"))\n",
    "# model = mobilenet_v2(cifar10=True)\n",
    "# summary(model,(3,32,32),device=\"cpu\")\n",
    "# data load\n",
    "train_loader, test_loader = Data.Cifar10_Dataloader()\n"
   ]
  },
  {
   "cell_type": "code",
   "execution_count": 10,
   "metadata": {},
   "outputs": [
    {
     "name": "stderr",
     "output_type": "stream",
     "text": [
      "                                               \r"
     ]
    },
    {
     "name": "stdout",
     "output_type": "stream",
     "text": [
      "Before Training\n",
      "Validation 0.3677 Loss, 90.04 Acc\n"
     ]
    },
    {
     "name": "stderr",
     "output_type": "stream",
     "text": [
      "                                                 \r"
     ]
    },
    {
     "name": "stdout",
     "output_type": "stream",
     "text": [
      "--------1----------\n",
      "Train 0.2984 Loss, 92.91 Acc\n",
      "Validation 0.3794 Loss, 89.71 Acc\n"
     ]
    },
    {
     "name": "stderr",
     "output_type": "stream",
     "text": [
      "                                                 \r"
     ]
    },
    {
     "name": "stdout",
     "output_type": "stream",
     "text": [
      "--------2----------\n",
      "Train 0.3005 Loss, 92.85 Acc\n",
      "Validation 0.3739 Loss, 89.89 Acc\n"
     ]
    },
    {
     "name": "stderr",
     "output_type": "stream",
     "text": [
      "                                                 \r"
     ]
    },
    {
     "name": "stdout",
     "output_type": "stream",
     "text": [
      "--------3----------\n",
      "Train 0.2955 Loss, 93.04 Acc\n",
      "Validation 0.3719 Loss, 89.77 Acc\n"
     ]
    },
    {
     "name": "stderr",
     "output_type": "stream",
     "text": [
      "                                                 \r"
     ]
    },
    {
     "name": "stdout",
     "output_type": "stream",
     "text": [
      "--------4----------\n",
      "Train 0.2990 Loss, 92.94 Acc\n",
      "Validation 0.3768 Loss, 89.69 Acc\n"
     ]
    },
    {
     "name": "stderr",
     "output_type": "stream",
     "text": [
      "                                                 \r"
     ]
    },
    {
     "name": "stdout",
     "output_type": "stream",
     "text": [
      "--------5----------\n",
      "Train 0.3024 Loss, 92.81 Acc\n",
      "Validation 0.3735 Loss, 89.72 Acc\n"
     ]
    },
    {
     "name": "stderr",
     "output_type": "stream",
     "text": [
      "                                                 \r"
     ]
    },
    {
     "name": "stdout",
     "output_type": "stream",
     "text": [
      "--------6----------\n",
      "Train 0.2965 Loss, 93.12 Acc\n",
      "Validation 0.3759 Loss, 89.77 Acc\n"
     ]
    },
    {
     "name": "stderr",
     "output_type": "stream",
     "text": [
      "                                                 \r"
     ]
    },
    {
     "name": "stdout",
     "output_type": "stream",
     "text": [
      "--------7----------\n",
      "Train 0.2979 Loss, 92.91 Acc\n",
      "Validation 0.3750 Loss, 89.76 Acc\n"
     ]
    },
    {
     "name": "stderr",
     "output_type": "stream",
     "text": [
      "                                                 \r"
     ]
    },
    {
     "name": "stdout",
     "output_type": "stream",
     "text": [
      "--------8----------\n",
      "Train 0.2989 Loss, 92.85 Acc\n",
      "Validation 0.3744 Loss, 89.79 Acc\n"
     ]
    },
    {
     "name": "stderr",
     "output_type": "stream",
     "text": [
      "                                                 \r"
     ]
    },
    {
     "name": "stdout",
     "output_type": "stream",
     "text": [
      "--------9----------\n",
      "Train 0.2977 Loss, 92.93 Acc\n",
      "Validation 0.3754 Loss, 89.71 Acc\n"
     ]
    },
    {
     "name": "stderr",
     "output_type": "stream",
     "text": [
      "                                                 \r"
     ]
    },
    {
     "name": "stdout",
     "output_type": "stream",
     "text": [
      "--------10----------\n",
      "Train 0.3016 Loss, 92.80 Acc\n",
      "Validation 0.3727 Loss, 89.82 Acc\n"
     ]
    },
    {
     "name": "stderr",
     "output_type": "stream",
     "text": [
      "                                                 \r"
     ]
    },
    {
     "name": "stdout",
     "output_type": "stream",
     "text": [
      "--------11----------\n",
      "Train 0.3008 Loss, 92.91 Acc\n",
      "Validation 0.3745 Loss, 89.82 Acc\n"
     ]
    },
    {
     "name": "stderr",
     "output_type": "stream",
     "text": [
      "                                                 \r"
     ]
    },
    {
     "name": "stdout",
     "output_type": "stream",
     "text": [
      "--------12----------\n",
      "Train 0.3024 Loss, 92.77 Acc\n",
      "Validation 0.3762 Loss, 89.67 Acc\n"
     ]
    },
    {
     "name": "stderr",
     "output_type": "stream",
     "text": [
      "                                                 \r"
     ]
    },
    {
     "name": "stdout",
     "output_type": "stream",
     "text": [
      "--------13----------\n",
      "Train 0.3009 Loss, 92.92 Acc\n",
      "Validation 0.3746 Loss, 89.73 Acc\n"
     ]
    },
    {
     "name": "stderr",
     "output_type": "stream",
     "text": [
      "                                                 "
     ]
    },
    {
     "name": "stdout",
     "output_type": "stream",
     "text": [
      "--------14----------\n",
      "Train 0.2997 Loss, 93.00 Acc\n",
      "Validation 0.3731 Loss, 89.77 Acc\n"
     ]
    },
    {
     "name": "stderr",
     "output_type": "stream",
     "text": [
      "\r"
     ]
    }
   ],
   "source": [
    "\n",
    "# optimizer \n",
    "optimizer = torch.optim.SGD(model.parameters(), lr=1e-6, momentum=0.9, weight_decay=5e-4)\n",
    "\n",
    "# scheduler \n",
    "scheduler = torch.optim.lr_scheduler.MultiStepLR(optimizer, milestones=[20,60,90], gamma=0.5)\n",
    "\n",
    "# train model\n",
    "criterion = torch.nn.CrossEntropyLoss(label_smoothing=0.0)\n",
    "count = 0\n",
    "best_loss = np.Inf\n",
    "# Training\n",
    "model.to(gpu_device)\n",
    "val_loss, val_acc = Evaluating(model,test_loader,device=gpu_device,criterion=criterion)\n",
    "print(\"Before Training\")\n",
    "print(f\"Validation {val_loss:.4f} Loss, {val_acc:.2f} Acc\")\n",
    "\n",
    "# with torch.autograd.set_detect_anomaly(True):\n",
    "for epoch in range(100):\n",
    "\n",
    "    running_loss = 0\n",
    "    running_corrects = 0\n",
    "    model.train()\n",
    "    for inputs, labels in tqdm(iter(train_loader),leave=False):\n",
    "        inputs = inputs.to(gpu_device)\n",
    "        labels = labels.to(gpu_device)\n",
    "        # input \n",
    "        # with torch.no_grad():\n",
    "        #     check = []\n",
    "        #     for i in range(inputs.size(0)):\n",
    "        #         temp = inputs.clone()\n",
    "        #         M = torch.max(temp[i])\n",
    "        #         m = torch.min(temp[i])\n",
    "        #         check.append([m,M])\n",
    "        #         inputs[i] = torch.round(254*(inputs[i]-m)/(M-m)-127)/1000\n",
    "            \n",
    "        #     for i in range(inputs.size(0)):\n",
    "        #         m = check[i][0]\n",
    "        #         M = check[i][1]\n",
    "        #         inputs[i] = (1000*inputs[i]+127)*(M-m)/254+m\n",
    "\n",
    "        optimizer.zero_grad()\n",
    "        # forward + backward + optimize\n",
    "        model,backup = custom_quant_weights(model)\n",
    "        model = custom_dequant_weights(model,backup)\n",
    "        outputs = model(inputs)\n",
    "\n",
    "        loss = criterion(outputs, labels)\n",
    "        loss.backward()\n",
    "        optimizer.step()\n",
    "        \n",
    "        _, preds = torch.max(outputs, 1)\n",
    "        # statistics\n",
    "        running_loss += loss.item() * labels.size(0)\n",
    "        running_corrects += (preds == labels).sum().item()\n",
    "        \n",
    "    # Set learning rate scheduler\n",
    "    if scheduler is not None:\n",
    "        scheduler.step()\n",
    "    train_loss = running_loss / len(train_loader.dataset)\n",
    "    train_accuracy = 100 * running_corrects / len(train_loader.dataset) \n",
    "\n",
    "    # Evaluation\n",
    "    val_loss, val_acc = Evaluating(model,test_loader,device=gpu_device,criterion=criterion)\n",
    "    print(f\"--------{epoch+1}----------\")\n",
    "    print(f\"Train {train_loss:.4f} Loss, {train_accuracy:.2f} Acc\")\n",
    "    print(f\"Validation {val_loss:.4f} Loss, {val_acc:.2f} Acc\")\n",
    "    if best_loss > val_loss:\n",
    "        best_loss = val_loss\n",
    "        count = 0\n",
    "        torch.save(model.state_dict(), f\"./models/test.pt\")\n",
    "    else:\n",
    "        count +=1\n",
    "        if count > 10:\n",
    "            break"
   ]
  },
  {
   "cell_type": "code",
   "execution_count": 13,
   "metadata": {},
   "outputs": [
    {
     "name": "stdout",
     "output_type": "stream",
     "text": [
      "Files already downloaded and verified\n",
      "Files already downloaded and verified\n",
      "Train data set = 50000, Test = 10000\n",
      "Q config = QConfig(activation=functools.partial(<class 'torch.ao.quantization.observer.HistogramObserver'>, quant_min=0, quant_max=127){}, weight=functools.partial(<class 'torch.ao.quantization.observer.MinMaxObserver'>, dtype=torch.qint8, qscheme=torch.per_tensor_symmetric, quant_min=-127, quant_max=127, eps=0.000244140625){})\n",
      "calibrating...\n"
     ]
    },
    {
     "name": "stderr",
     "output_type": "stream",
     "text": [
      "/home/seunmul/.conda/envs/torch/lib/python3.9/site-packages/torch/ao/quantization/observer.py:1135: UserWarning: must run observer before calling calculate_qparams.                                    Returning default scale and zero point \n",
      "  warnings.warn(\n",
      "                                               "
     ]
    },
    {
     "name": "stdout",
     "output_type": "stream",
     "text": [
      "post int8_model acc :80.38 %\n"
     ]
    },
    {
     "name": "stderr",
     "output_type": "stream",
     "text": [
      "\r"
     ]
    }
   ],
   "source": [
    "from models import quantize_model,quat_mobilenet_v2,MobileNet_V2_Weights\n",
    "import copy\n",
    "import torch\n",
    "from utils import Data,Evaluating\n",
    "train_loader, test_loader = Data.Cifar10_Dataloader()\n",
    "model = quat_mobilenet_v2(weights=MobileNet_V2_Weights.IMAGENET1K_V1,activation_layer=torch.nn.ReLU)\n",
    "model.classifier.append(torch.nn.Dropout(0.2))\n",
    "model.classifier.append(torch.nn.Linear(1000, 10))\n",
    "model.to('cpu')\n",
    "model.load_state_dict(torch.load(\"./models/weight_q_mobilenetv2_cifar10.pt\"))\n",
    "quat_model = copy.deepcopy(model)\n",
    "qconfig = torch.ao.quantization.QConfig(  # type: ignore[assignment]\n",
    "                activation=torch.ao.quantization.default_histogram_observer, weight=torch.ao.quantization.weight_observer_range_neg_127_to_127\n",
    "            )\n",
    "quantize_model(quat_model, data= train_loader,qconfig=qconfig)\n",
    "_,int8_acc = Evaluating(quat_model,test_loader,\"cpu\")\n",
    "print(f\"post int8_model acc :{int8_acc:.2f} %\")\n"
   ]
  },
  {
   "cell_type": "code",
   "execution_count": 3,
   "metadata": {},
   "outputs": [
    {
     "name": "stdout",
     "output_type": "stream",
     "text": [
      "QConfig(activation=functools.partial(<class 'torch.ao.quantization.observer.HistogramObserver'>, quant_min=0, quant_max=127){}, weight=functools.partial(<class 'torch.ao.quantization.observer.MinMaxObserver'>, dtype=torch.qint8, qscheme=torch.per_tensor_symmetric, quant_min=-127, quant_max=127, eps=0.000244140625){})\n",
      "Q config = QConfig(activation=functools.partial(<class 'torch.ao.quantization.observer.HistogramObserver'>, quant_min=0, quant_max=127){}, weight=functools.partial(<class 'torch.ao.quantization.observer.MinMaxObserver'>, dtype=torch.qint8, qscheme=torch.per_tensor_symmetric, quant_min=-127, quant_max=127, eps=0.000244140625){})\n",
      "calibrating...\n"
     ]
    },
    {
     "name": "stderr",
     "output_type": "stream",
     "text": [
      "                                               "
     ]
    },
    {
     "name": "stdout",
     "output_type": "stream",
     "text": [
      "post int8_model acc :87.49 %\n"
     ]
    },
    {
     "name": "stderr",
     "output_type": "stream",
     "text": [
      "\r"
     ]
    }
   ],
   "source": [
    "# qconfig = torch.quantization.get_default_qconfig(\"fbgemm\")\n",
    "qconfig = torch.ao.quantization.QConfig(  # type: ignore[assignment]\n",
    "                activation=torch.ao.quantization.default_histogram_observer, weight=torch.ao.quantization.weight_observer_range_neg_127_to_127\n",
    "            )\n",
    "print(qconfig)\n",
    "\n",
    "model.load_state_dict(torch.load(\"./models/q_mobilenetv2_cifar10.pt\"))\n",
    "quat_model = copy.deepcopy(model)\n",
    "quantize_model(quat_model, data= train_loader,qconfig=qconfig)\n",
    "_,int8_acc = Evaluating(quat_model,test_loader,\"cpu\")\n",
    "print(f\"post int8_model acc :{int8_acc:.2f} %\")"
   ]
  },
  {
   "cell_type": "code",
   "execution_count": 4,
   "metadata": {},
   "outputs": [
    {
     "name": "stdout",
     "output_type": "stream",
     "text": [
      "Files already downloaded and verified\n",
      "Files already downloaded and verified\n",
      "Train data set = 50000, Test = 10000\n"
     ]
    },
    {
     "name": "stderr",
     "output_type": "stream",
     "text": [
      "                                               \r"
     ]
    },
    {
     "name": "stdout",
     "output_type": "stream",
     "text": [
      "Before Training\n",
      "Validation 0.3452 Loss, 90.60 Acc\n"
     ]
    },
    {
     "name": "stderr",
     "output_type": "stream",
     "text": [
      "                                                 \r"
     ]
    },
    {
     "name": "stdout",
     "output_type": "stream",
     "text": [
      "--------1----------\n",
      "Train 0.2269 Loss, 95.79 Acc\n",
      "Validation 0.3494 Loss, 90.66 Acc\n"
     ]
    },
    {
     "name": "stderr",
     "output_type": "stream",
     "text": [
      "                                                 \r"
     ]
    },
    {
     "name": "stdout",
     "output_type": "stream",
     "text": [
      "--------2----------\n",
      "Train 0.2288 Loss, 95.59 Acc\n",
      "Validation 0.3479 Loss, 90.70 Acc\n"
     ]
    },
    {
     "name": "stderr",
     "output_type": "stream",
     "text": [
      "                                                 \r"
     ]
    },
    {
     "name": "stdout",
     "output_type": "stream",
     "text": [
      "--------3----------\n",
      "Train 0.2229 Loss, 95.74 Acc\n",
      "Validation 0.3495 Loss, 90.73 Acc\n"
     ]
    },
    {
     "name": "stderr",
     "output_type": "stream",
     "text": [
      "                                                 \r"
     ]
    },
    {
     "name": "stdout",
     "output_type": "stream",
     "text": [
      "--------4----------\n",
      "Train 0.2228 Loss, 95.73 Acc\n",
      "Validation 0.3458 Loss, 90.63 Acc\n"
     ]
    },
    {
     "name": "stderr",
     "output_type": "stream",
     "text": [
      "                                                 \r"
     ]
    },
    {
     "name": "stdout",
     "output_type": "stream",
     "text": [
      "--------5----------\n",
      "Train 0.2221 Loss, 95.68 Acc\n",
      "Validation 0.3480 Loss, 90.65 Acc\n"
     ]
    },
    {
     "name": "stderr",
     "output_type": "stream",
     "text": [
      "                                                 \r"
     ]
    },
    {
     "name": "stdout",
     "output_type": "stream",
     "text": [
      "--------6----------\n",
      "Train 0.2185 Loss, 95.74 Acc\n",
      "Validation 0.3463 Loss, 90.69 Acc\n"
     ]
    },
    {
     "name": "stderr",
     "output_type": "stream",
     "text": [
      "                                                 \r"
     ]
    },
    {
     "name": "stdout",
     "output_type": "stream",
     "text": [
      "--------7----------\n",
      "Train 0.2165 Loss, 95.79 Acc\n",
      "Validation 0.3426 Loss, 90.62 Acc\n"
     ]
    },
    {
     "name": "stderr",
     "output_type": "stream",
     "text": [
      "                                                 \r"
     ]
    },
    {
     "name": "stdout",
     "output_type": "stream",
     "text": [
      "--------8----------\n",
      "Train 0.2178 Loss, 95.69 Acc\n",
      "Validation 0.3440 Loss, 90.61 Acc\n"
     ]
    },
    {
     "name": "stderr",
     "output_type": "stream",
     "text": [
      "                                                 \r"
     ]
    },
    {
     "name": "stdout",
     "output_type": "stream",
     "text": [
      "--------9----------\n",
      "Train 0.2141 Loss, 95.76 Acc\n",
      "Validation 0.3455 Loss, 90.58 Acc\n"
     ]
    },
    {
     "name": "stderr",
     "output_type": "stream",
     "text": [
      "                                                 \r"
     ]
    },
    {
     "name": "stdout",
     "output_type": "stream",
     "text": [
      "--------10----------\n",
      "Train 0.2162 Loss, 95.49 Acc\n",
      "Validation 0.3388 Loss, 90.56 Acc\n"
     ]
    },
    {
     "name": "stderr",
     "output_type": "stream",
     "text": [
      "                                                 \r"
     ]
    },
    {
     "name": "stdout",
     "output_type": "stream",
     "text": [
      "--------11----------\n",
      "Train 0.2150 Loss, 95.72 Acc\n",
      "Validation 0.3396 Loss, 90.60 Acc\n"
     ]
    },
    {
     "name": "stderr",
     "output_type": "stream",
     "text": [
      "                                                 \r"
     ]
    },
    {
     "name": "stdout",
     "output_type": "stream",
     "text": [
      "--------12----------\n",
      "Train 0.2141 Loss, 95.53 Acc\n",
      "Validation 0.3439 Loss, 90.52 Acc\n"
     ]
    },
    {
     "name": "stderr",
     "output_type": "stream",
     "text": [
      "                                                 \r"
     ]
    },
    {
     "name": "stdout",
     "output_type": "stream",
     "text": [
      "--------13----------\n",
      "Train 0.2111 Loss, 95.61 Acc\n",
      "Validation 0.3423 Loss, 90.60 Acc\n"
     ]
    },
    {
     "name": "stderr",
     "output_type": "stream",
     "text": [
      "                                                 \r"
     ]
    },
    {
     "name": "stdout",
     "output_type": "stream",
     "text": [
      "--------14----------\n",
      "Train 0.2089 Loss, 95.61 Acc\n",
      "Validation 0.3342 Loss, 90.56 Acc\n"
     ]
    },
    {
     "name": "stderr",
     "output_type": "stream",
     "text": [
      "                                                 \r"
     ]
    },
    {
     "name": "stdout",
     "output_type": "stream",
     "text": [
      "--------15----------\n",
      "Train 0.2059 Loss, 95.65 Acc\n",
      "Validation 0.3401 Loss, 90.51 Acc\n"
     ]
    },
    {
     "name": "stderr",
     "output_type": "stream",
     "text": [
      "                                                 \r"
     ]
    },
    {
     "name": "stdout",
     "output_type": "stream",
     "text": [
      "--------16----------\n",
      "Train 0.2089 Loss, 95.55 Acc\n",
      "Validation 0.3352 Loss, 90.58 Acc\n"
     ]
    },
    {
     "name": "stderr",
     "output_type": "stream",
     "text": [
      "                                                 \r"
     ]
    },
    {
     "name": "stdout",
     "output_type": "stream",
     "text": [
      "--------17----------\n",
      "Train 0.2061 Loss, 95.50 Acc\n",
      "Validation 0.3381 Loss, 90.51 Acc\n"
     ]
    },
    {
     "name": "stderr",
     "output_type": "stream",
     "text": [
      "                                                 \r"
     ]
    },
    {
     "name": "stdout",
     "output_type": "stream",
     "text": [
      "--------18----------\n",
      "Train 0.2039 Loss, 95.51 Acc\n",
      "Validation 0.3372 Loss, 90.35 Acc\n"
     ]
    },
    {
     "name": "stderr",
     "output_type": "stream",
     "text": [
      "                                                 \r"
     ]
    },
    {
     "name": "stdout",
     "output_type": "stream",
     "text": [
      "--------19----------\n",
      "Train 0.2027 Loss, 95.59 Acc\n",
      "Validation 0.3371 Loss, 90.33 Acc\n"
     ]
    },
    {
     "name": "stderr",
     "output_type": "stream",
     "text": [
      "                                                 \r"
     ]
    },
    {
     "name": "stdout",
     "output_type": "stream",
     "text": [
      "--------20----------\n",
      "Train 0.2005 Loss, 95.49 Acc\n",
      "Validation 0.3334 Loss, 90.43 Acc\n"
     ]
    },
    {
     "name": "stderr",
     "output_type": "stream",
     "text": [
      "                                                 \r"
     ]
    },
    {
     "name": "stdout",
     "output_type": "stream",
     "text": [
      "--------21----------\n",
      "Train 0.1991 Loss, 95.52 Acc\n",
      "Validation 0.3350 Loss, 90.39 Acc\n"
     ]
    },
    {
     "name": "stderr",
     "output_type": "stream",
     "text": [
      "                                                 \r"
     ]
    },
    {
     "name": "stdout",
     "output_type": "stream",
     "text": [
      "--------22----------\n",
      "Train 0.2010 Loss, 95.53 Acc\n",
      "Validation 0.3351 Loss, 90.50 Acc\n"
     ]
    },
    {
     "name": "stderr",
     "output_type": "stream",
     "text": [
      "                                                 \r"
     ]
    },
    {
     "name": "stdout",
     "output_type": "stream",
     "text": [
      "--------23----------\n",
      "Train 0.2040 Loss, 95.29 Acc\n",
      "Validation 0.3309 Loss, 90.41 Acc\n"
     ]
    },
    {
     "name": "stderr",
     "output_type": "stream",
     "text": [
      "                                                 \r"
     ]
    },
    {
     "name": "stdout",
     "output_type": "stream",
     "text": [
      "--------24----------\n",
      "Train 0.1974 Loss, 95.52 Acc\n",
      "Validation 0.3311 Loss, 90.47 Acc\n"
     ]
    },
    {
     "name": "stderr",
     "output_type": "stream",
     "text": [
      "                                                 \r"
     ]
    },
    {
     "name": "stdout",
     "output_type": "stream",
     "text": [
      "--------25----------\n",
      "Train 0.1978 Loss, 95.50 Acc\n",
      "Validation 0.3281 Loss, 90.41 Acc\n"
     ]
    },
    {
     "name": "stderr",
     "output_type": "stream",
     "text": [
      "                                                 \r"
     ]
    },
    {
     "name": "stdout",
     "output_type": "stream",
     "text": [
      "--------26----------\n",
      "Train 0.1964 Loss, 95.37 Acc\n",
      "Validation 0.3308 Loss, 90.45 Acc\n"
     ]
    },
    {
     "name": "stderr",
     "output_type": "stream",
     "text": [
      "                                                 \r"
     ]
    },
    {
     "name": "stdout",
     "output_type": "stream",
     "text": [
      "--------27----------\n",
      "Train 0.1964 Loss, 95.40 Acc\n",
      "Validation 0.3278 Loss, 90.53 Acc\n"
     ]
    },
    {
     "name": "stderr",
     "output_type": "stream",
     "text": [
      "                                                 \r"
     ]
    },
    {
     "name": "stdout",
     "output_type": "stream",
     "text": [
      "--------28----------\n",
      "Train 0.1950 Loss, 95.51 Acc\n",
      "Validation 0.3336 Loss, 90.35 Acc\n"
     ]
    },
    {
     "name": "stderr",
     "output_type": "stream",
     "text": [
      "                                                 \r"
     ]
    },
    {
     "name": "stdout",
     "output_type": "stream",
     "text": [
      "--------29----------\n",
      "Train 0.1951 Loss, 95.40 Acc\n",
      "Validation 0.3293 Loss, 90.33 Acc\n"
     ]
    },
    {
     "name": "stderr",
     "output_type": "stream",
     "text": [
      "                                                 \r"
     ]
    },
    {
     "name": "stdout",
     "output_type": "stream",
     "text": [
      "--------30----------\n",
      "Train 0.1918 Loss, 95.48 Acc\n",
      "Validation 0.3276 Loss, 90.49 Acc\n"
     ]
    },
    {
     "name": "stderr",
     "output_type": "stream",
     "text": [
      "                                                 \r"
     ]
    },
    {
     "name": "stdout",
     "output_type": "stream",
     "text": [
      "--------31----------\n",
      "Train 0.1928 Loss, 95.37 Acc\n",
      "Validation 0.3292 Loss, 90.46 Acc\n"
     ]
    },
    {
     "name": "stderr",
     "output_type": "stream",
     "text": [
      "                                                 \r"
     ]
    },
    {
     "name": "stdout",
     "output_type": "stream",
     "text": [
      "--------32----------\n",
      "Train 0.1924 Loss, 95.42 Acc\n",
      "Validation 0.3284 Loss, 90.39 Acc\n"
     ]
    },
    {
     "name": "stderr",
     "output_type": "stream",
     "text": [
      "                                                 \r"
     ]
    },
    {
     "name": "stdout",
     "output_type": "stream",
     "text": [
      "--------33----------\n",
      "Train 0.1922 Loss, 95.31 Acc\n",
      "Validation 0.3279 Loss, 90.31 Acc\n"
     ]
    },
    {
     "name": "stderr",
     "output_type": "stream",
     "text": [
      "                                                 \r"
     ]
    },
    {
     "name": "stdout",
     "output_type": "stream",
     "text": [
      "--------34----------\n",
      "Train 0.1909 Loss, 95.41 Acc\n",
      "Validation 0.3329 Loss, 90.31 Acc\n"
     ]
    },
    {
     "name": "stderr",
     "output_type": "stream",
     "text": [
      "                                                 \r"
     ]
    },
    {
     "name": "stdout",
     "output_type": "stream",
     "text": [
      "--------35----------\n",
      "Train 0.1902 Loss, 95.41 Acc\n",
      "Validation 0.3268 Loss, 90.49 Acc\n"
     ]
    },
    {
     "name": "stderr",
     "output_type": "stream",
     "text": [
      "                                                 \r"
     ]
    },
    {
     "name": "stdout",
     "output_type": "stream",
     "text": [
      "--------36----------\n",
      "Train 0.1908 Loss, 95.42 Acc\n",
      "Validation 0.3269 Loss, 90.46 Acc\n"
     ]
    },
    {
     "name": "stderr",
     "output_type": "stream",
     "text": [
      "                                                 \r"
     ]
    },
    {
     "name": "stdout",
     "output_type": "stream",
     "text": [
      "--------37----------\n",
      "Train 0.1888 Loss, 95.38 Acc\n",
      "Validation 0.3260 Loss, 90.50 Acc\n"
     ]
    },
    {
     "name": "stderr",
     "output_type": "stream",
     "text": [
      "                                                 \r"
     ]
    },
    {
     "name": "stdout",
     "output_type": "stream",
     "text": [
      "--------38----------\n",
      "Train 0.1854 Loss, 95.56 Acc\n",
      "Validation 0.3306 Loss, 90.25 Acc\n"
     ]
    },
    {
     "name": "stderr",
     "output_type": "stream",
     "text": [
      "                                                 \r"
     ]
    },
    {
     "name": "stdout",
     "output_type": "stream",
     "text": [
      "--------39----------\n",
      "Train 0.1895 Loss, 95.20 Acc\n",
      "Validation 0.3302 Loss, 90.37 Acc\n"
     ]
    },
    {
     "name": "stderr",
     "output_type": "stream",
     "text": [
      "                                                 \r"
     ]
    },
    {
     "name": "stdout",
     "output_type": "stream",
     "text": [
      "--------40----------\n",
      "Train 0.1859 Loss, 95.33 Acc\n",
      "Validation 0.3235 Loss, 90.37 Acc\n"
     ]
    },
    {
     "name": "stderr",
     "output_type": "stream",
     "text": [
      "                                                 \r"
     ]
    },
    {
     "name": "stdout",
     "output_type": "stream",
     "text": [
      "--------41----------\n",
      "Train 0.1841 Loss, 95.38 Acc\n",
      "Validation 0.3254 Loss, 90.28 Acc\n"
     ]
    },
    {
     "name": "stderr",
     "output_type": "stream",
     "text": [
      "                                                 \r"
     ]
    },
    {
     "name": "stdout",
     "output_type": "stream",
     "text": [
      "--------42----------\n",
      "Train 0.1867 Loss, 95.31 Acc\n",
      "Validation 0.3285 Loss, 90.35 Acc\n"
     ]
    },
    {
     "name": "stderr",
     "output_type": "stream",
     "text": [
      "                                                 \r"
     ]
    },
    {
     "name": "stdout",
     "output_type": "stream",
     "text": [
      "--------43----------\n",
      "Train 0.1858 Loss, 95.27 Acc\n",
      "Validation 0.3221 Loss, 90.40 Acc\n"
     ]
    },
    {
     "name": "stderr",
     "output_type": "stream",
     "text": [
      "                                                 \r"
     ]
    },
    {
     "name": "stdout",
     "output_type": "stream",
     "text": [
      "--------44----------\n",
      "Train 0.1854 Loss, 95.29 Acc\n",
      "Validation 0.3254 Loss, 90.28 Acc\n"
     ]
    },
    {
     "name": "stderr",
     "output_type": "stream",
     "text": [
      "                                                 \r"
     ]
    },
    {
     "name": "stdout",
     "output_type": "stream",
     "text": [
      "--------45----------\n",
      "Train 0.1802 Loss, 95.35 Acc\n",
      "Validation 0.3260 Loss, 90.32 Acc\n"
     ]
    },
    {
     "name": "stderr",
     "output_type": "stream",
     "text": [
      "                                                 \r"
     ]
    },
    {
     "name": "stdout",
     "output_type": "stream",
     "text": [
      "--------46----------\n",
      "Train 0.1813 Loss, 95.38 Acc\n",
      "Validation 0.3237 Loss, 90.40 Acc\n"
     ]
    },
    {
     "name": "stderr",
     "output_type": "stream",
     "text": [
      "                                                 \r"
     ]
    },
    {
     "name": "stdout",
     "output_type": "stream",
     "text": [
      "--------47----------\n",
      "Train 0.1814 Loss, 95.25 Acc\n",
      "Validation 0.3220 Loss, 90.29 Acc\n"
     ]
    },
    {
     "name": "stderr",
     "output_type": "stream",
     "text": [
      "                                                 \r"
     ]
    },
    {
     "name": "stdout",
     "output_type": "stream",
     "text": [
      "--------48----------\n",
      "Train 0.1801 Loss, 95.28 Acc\n",
      "Validation 0.3210 Loss, 90.48 Acc\n"
     ]
    },
    {
     "name": "stderr",
     "output_type": "stream",
     "text": [
      "                                                 \r"
     ]
    },
    {
     "name": "stdout",
     "output_type": "stream",
     "text": [
      "--------49----------\n",
      "Train 0.1821 Loss, 95.12 Acc\n",
      "Validation 0.3231 Loss, 90.34 Acc\n"
     ]
    },
    {
     "name": "stderr",
     "output_type": "stream",
     "text": [
      "                                                 \r"
     ]
    },
    {
     "name": "stdout",
     "output_type": "stream",
     "text": [
      "--------50----------\n",
      "Train 0.1783 Loss, 95.30 Acc\n",
      "Validation 0.3217 Loss, 90.38 Acc\n"
     ]
    },
    {
     "name": "stderr",
     "output_type": "stream",
     "text": [
      "                                                 \r"
     ]
    },
    {
     "name": "stdout",
     "output_type": "stream",
     "text": [
      "--------51----------\n",
      "Train 0.1802 Loss, 95.29 Acc\n",
      "Validation 0.3202 Loss, 90.53 Acc\n"
     ]
    },
    {
     "name": "stderr",
     "output_type": "stream",
     "text": [
      "                                                 \r"
     ]
    },
    {
     "name": "stdout",
     "output_type": "stream",
     "text": [
      "--------52----------\n",
      "Train 0.1773 Loss, 95.29 Acc\n",
      "Validation 0.3215 Loss, 90.36 Acc\n"
     ]
    },
    {
     "name": "stderr",
     "output_type": "stream",
     "text": [
      "                                                 \r"
     ]
    },
    {
     "name": "stdout",
     "output_type": "stream",
     "text": [
      "--------53----------\n",
      "Train 0.1797 Loss, 95.15 Acc\n",
      "Validation 0.3232 Loss, 90.33 Acc\n"
     ]
    },
    {
     "name": "stderr",
     "output_type": "stream",
     "text": [
      "                                                 \r"
     ]
    },
    {
     "name": "stdout",
     "output_type": "stream",
     "text": [
      "--------54----------\n",
      "Train 0.1772 Loss, 95.22 Acc\n",
      "Validation 0.3214 Loss, 90.45 Acc\n"
     ]
    },
    {
     "name": "stderr",
     "output_type": "stream",
     "text": [
      "                                                 \r"
     ]
    },
    {
     "name": "stdout",
     "output_type": "stream",
     "text": [
      "--------55----------\n",
      "Train 0.1755 Loss, 95.18 Acc\n",
      "Validation 0.3204 Loss, 90.35 Acc\n"
     ]
    },
    {
     "name": "stderr",
     "output_type": "stream",
     "text": [
      "                                                 \r"
     ]
    },
    {
     "name": "stdout",
     "output_type": "stream",
     "text": [
      "--------56----------\n",
      "Train 0.1789 Loss, 95.15 Acc\n",
      "Validation 0.3247 Loss, 90.29 Acc\n"
     ]
    },
    {
     "name": "stderr",
     "output_type": "stream",
     "text": [
      "                                                 \r"
     ]
    },
    {
     "name": "stdout",
     "output_type": "stream",
     "text": [
      "--------57----------\n",
      "Train 0.1766 Loss, 95.20 Acc\n",
      "Validation 0.3228 Loss, 90.38 Acc\n"
     ]
    },
    {
     "name": "stderr",
     "output_type": "stream",
     "text": [
      "                                                 \r"
     ]
    },
    {
     "name": "stdout",
     "output_type": "stream",
     "text": [
      "--------58----------\n",
      "Train 0.1765 Loss, 95.15 Acc\n",
      "Validation 0.3335 Loss, 90.22 Acc\n"
     ]
    },
    {
     "name": "stderr",
     "output_type": "stream",
     "text": [
      "                                                 \r"
     ]
    },
    {
     "name": "stdout",
     "output_type": "stream",
     "text": [
      "--------59----------\n",
      "Train 0.1729 Loss, 95.20 Acc\n",
      "Validation 0.3274 Loss, 90.28 Acc\n"
     ]
    },
    {
     "name": "stderr",
     "output_type": "stream",
     "text": [
      "                                                 \r"
     ]
    },
    {
     "name": "stdout",
     "output_type": "stream",
     "text": [
      "--------60----------\n",
      "Train 0.1742 Loss, 95.21 Acc\n",
      "Validation 0.3240 Loss, 90.33 Acc\n"
     ]
    },
    {
     "name": "stderr",
     "output_type": "stream",
     "text": [
      "                                                 \r"
     ]
    },
    {
     "name": "stdout",
     "output_type": "stream",
     "text": [
      "--------61----------\n",
      "Train 0.1775 Loss, 95.18 Acc\n",
      "Validation 0.3214 Loss, 90.44 Acc\n"
     ]
    },
    {
     "name": "stderr",
     "output_type": "stream",
     "text": [
      "                                                 "
     ]
    },
    {
     "name": "stdout",
     "output_type": "stream",
     "text": [
      "--------62----------\n",
      "Train 0.1736 Loss, 95.23 Acc\n",
      "Validation 0.3212 Loss, 90.38 Acc\n"
     ]
    },
    {
     "name": "stderr",
     "output_type": "stream",
     "text": [
      "\r"
     ]
    }
   ],
   "source": [
    "from models import quat_mobilenet_v2,mobilenet_v2\n",
    "from models import Quant_ReLU\n",
    "from torchsummary import summary\n",
    "from utils import Data\n",
    "from utils import Train\n",
    "import torch\n",
    "import numpy as np\n",
    "from tqdm import tqdm\n",
    "from utils.Train import Evaluating\n",
    "from utils.Train import custom_quant_weights,custom_dequant_weights\n",
    "from models.mobilenetv2 import replace_Qrelu, replace_relu, MobileNet_V2_Weights\n",
    "from utils import set_random_seeds\n",
    "# device \n",
    "if torch.cuda.is_available():\n",
    "    gpu_device = torch.device(\"cuda\")\n",
    "cpu_device = torch.device(\"cpu\")\n",
    "\n",
    "# set random \n",
    "set_random_seeds(42)\n",
    "\n",
    "# model load\n",
    "model = quat_mobilenet_v2(weights=MobileNet_V2_Weights.IMAGENET1K_V1,activation_layer=torch.nn.ReLU)\n",
    "model.classifier.append(torch.nn.Dropout(0.2))\n",
    "model.classifier.append(torch.nn.Linear(1000, 10))\n",
    "model.load_state_dict(torch.load(\"./models/mobilenetv2_cifar10.pt\"))\n",
    "# model = mobilenet_v2(cifar10=True)\n",
    "# summary(model,(3,32,32),device=\"cpu\")\n",
    "# data load\n",
    "train_loader, test_loader = Data.Cifar10_Dataloader()\n",
    "\n",
    "# optimizer \n",
    "optimizer = torch.optim.SGD(model.parameters(), lr=1e-5, momentum=0.9, weight_decay=5e-4)\n",
    "\n",
    "# scheduler \n",
    "scheduler = torch.optim.lr_scheduler.MultiStepLR(optimizer, milestones=[20,60,90], gamma=0.5)\n",
    "\n",
    "# train model\n",
    "criterion = torch.nn.CrossEntropyLoss(label_smoothing=0.0)\n",
    "count = 0\n",
    "best_loss = np.Inf\n",
    "# Training\n",
    "model.to(gpu_device)\n",
    "val_loss, val_acc = Evaluating(model,test_loader,device=gpu_device,criterion=criterion)\n",
    "print(\"Before Training\")\n",
    "print(f\"Validation {val_loss:.4f} Loss, {val_acc:.2f} Acc\")\n",
    "\n",
    "# with torch.autograd.set_detect_anomaly(True):\n",
    "for epoch in range(100):\n",
    "\n",
    "    running_loss = 0\n",
    "    running_corrects = 0\n",
    "    model.train()\n",
    "    for inputs, labels in tqdm(iter(train_loader),leave=False):\n",
    "        inputs = inputs.to(gpu_device)\n",
    "        labels = labels.to(gpu_device)\n",
    "        # input \n",
    "        with torch.no_grad():\n",
    "            check = []\n",
    "            for i in range(inputs.size(0)):\n",
    "                temp = inputs.clone()\n",
    "                M = torch.max(temp[i])\n",
    "                m = torch.min(temp[i])\n",
    "                check.append([m,M])\n",
    "                inputs[i] = torch.round(254*(inputs[i]-m)/(M-m)-127)/1000\n",
    "            \n",
    "            for i in range(inputs.size(0)):\n",
    "                m = check[i][0]\n",
    "                M = check[i][1]\n",
    "                inputs[i] = (1000*inputs[i]+127)*(M-m)/254+m\n",
    "\n",
    "        optimizer.zero_grad()\n",
    "        # forward + backward + optimize\n",
    "        model,backup = custom_quant_weights(model)\n",
    "        model = custom_dequant_weights(model,backup)\n",
    "        outputs = model(inputs)\n",
    "\n",
    "        loss = criterion(outputs, labels)\n",
    "        loss.backward()\n",
    "        optimizer.step()\n",
    "        \n",
    "        _, preds = torch.max(outputs, 1)\n",
    "        # statistics\n",
    "        running_loss += loss.item() * labels.size(0)\n",
    "        running_corrects += (preds == labels).sum().item()\n",
    "        \n",
    "    # Set learning rate scheduler\n",
    "    if scheduler is not None:\n",
    "        scheduler.step()\n",
    "    train_loss = running_loss / len(train_loader.dataset)\n",
    "    train_accuracy = 100 * running_corrects / len(train_loader.dataset) \n",
    "\n",
    "    # Evaluation\n",
    "    val_loss, val_acc = Evaluating(model,test_loader,device=gpu_device,criterion=criterion)\n",
    "    print(f\"--------{epoch+1}----------\")\n",
    "    print(f\"Train {train_loss:.4f} Loss, {train_accuracy:.2f} Acc\")\n",
    "    print(f\"Validation {val_loss:.4f} Loss, {val_acc:.2f} Acc\")\n",
    "    if best_loss > val_loss:\n",
    "        best_loss = val_loss\n",
    "        count = 0\n",
    "        torch.save(model.state_dict(), f\"./models/input_weight_q_mobilenetv2_cifar10.pt\")\n",
    "    else:\n",
    "        count +=1\n",
    "        if count > 10:\n",
    "            break"
   ]
  },
  {
   "cell_type": "code",
   "execution_count": 15,
   "metadata": {},
   "outputs": [
    {
     "name": "stderr",
     "output_type": "stream",
     "text": [
      "/home/seunmul/.conda/envs/torch/lib/python3.9/site-packages/torch/ao/quantization/observer.py:176: UserWarning: Please use quant_min and quant_max to specify the range for observers.                     reduce_range will be deprecated in a future release of PyTorch.\n",
      "  warnings.warn(\n"
     ]
    },
    {
     "name": "stdout",
     "output_type": "stream",
     "text": [
      "QConfig(activation=functools.partial(<class 'torch.ao.quantization.observer.HistogramObserver'>, reduce_range=True){}, weight=functools.partial(<class 'torch.ao.quantization.observer.PerChannelMinMaxObserver'>, dtype=torch.qint8, qscheme=torch.per_channel_symmetric){})\n",
      "post\n",
      "Q config = QConfig(activation=functools.partial(<class 'torch.ao.quantization.observer.HistogramObserver'>, reduce_range=True){}, weight=functools.partial(<class 'torch.ao.quantization.observer.PerChannelMinMaxObserver'>, dtype=torch.qint8, qscheme=torch.per_channel_symmetric){})\n",
      "calibrating...\n"
     ]
    },
    {
     "name": "stderr",
     "output_type": "stream",
     "text": [
      "/home/seunmul/.conda/envs/torch/lib/python3.9/site-packages/torch/ao/quantization/observer.py:1135: UserWarning: must run observer before calling calculate_qparams.                                    Returning default scale and zero point \n",
      "  warnings.warn(\n",
      "                                               \r"
     ]
    },
    {
     "name": "stdout",
     "output_type": "stream",
     "text": [
      "post int8_model acc :82.71 %\n",
      "input - weight qat\n",
      "Q config = QConfig(activation=functools.partial(<class 'torch.ao.quantization.observer.HistogramObserver'>, reduce_range=True){}, weight=functools.partial(<class 'torch.ao.quantization.observer.PerChannelMinMaxObserver'>, dtype=torch.qint8, qscheme=torch.per_channel_symmetric){})\n",
      "calibrating...\n"
     ]
    },
    {
     "name": "stderr",
     "output_type": "stream",
     "text": [
      "                                                 "
     ]
    },
    {
     "name": "stdout",
     "output_type": "stream",
     "text": [
      "post int8_model acc :83.62 %\n"
     ]
    },
    {
     "name": "stderr",
     "output_type": "stream",
     "text": [
      "\r"
     ]
    }
   ],
   "source": [
    "# qconfig = torch.quantization.get_default_qconfig(\"fbgemm\")\n",
    "qconfig = torch.quantization.get_default_qconfig(\"fbgemm\")\n",
    "print(qconfig)\n",
    "model.to(cpu_device)\n",
    "\n",
    "print(\"post\")\n",
    "model.load_state_dict(torch.load(\"./models/weights/mobilenetv2_cifar10.pt\"))\n",
    "quat_model = copy.deepcopy(model)\n",
    "quantize_model(quat_model, data= train_loader,qconfig=qconfig)\n",
    "_,int8_acc = Evaluating(quat_model,test_loader,\"cpu\")\n",
    "print(f\"post int8_model acc :{int8_acc:.2f} %\")\n",
    "\n",
    "print(\"input - weight qat\")\n",
    "model.load_state_dict(torch.load(\"./models/weights/q_mobilenetv2_cifar10.pt\"))\n",
    "quat_model = copy.deepcopy(model)\n",
    "quantize_model(quat_model, data= train_loader,qconfig=qconfig)\n",
    "_,int8_acc = Evaluating(quat_model,test_loader,\"cpu\")\n",
    "print(f\"post int8_model acc :{int8_acc:.2f} %\")"
   ]
  },
  {
   "cell_type": "code",
   "execution_count": null,
   "metadata": {},
   "outputs": [],
   "source": []
  }
 ],
 "metadata": {
  "kernelspec": {
   "display_name": "torch",
   "language": "python",
   "name": "python3"
  },
  "language_info": {
   "codemirror_mode": {
    "name": "ipython",
    "version": 3
   },
   "file_extension": ".py",
   "mimetype": "text/x-python",
   "name": "python",
   "nbconvert_exporter": "python",
   "pygments_lexer": "ipython3",
   "version": "3.9.12 (main, Jun  1 2022, 11:38:51) \n[GCC 7.5.0]"
  },
  "orig_nbformat": 4,
  "vscode": {
   "interpreter": {
    "hash": "24c3f2c56578ca93d34255952c36601b421b6ecc37a0d9982e6b92a246c07692"
   }
  }
 },
 "nbformat": 4,
 "nbformat_minor": 2
}
